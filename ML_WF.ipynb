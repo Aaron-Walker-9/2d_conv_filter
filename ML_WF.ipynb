{
 "cells": [
  {
   "cell_type": "code",
   "execution_count": 1,
   "id": "5e4dd486",
   "metadata": {},
   "outputs": [],
   "source": [
    "import pandas as pd\n",
    "import matplotlib.pyplot as plt"
   ]
  },
  {
   "cell_type": "code",
   "execution_count": null,
   "id": "4576f73d",
   "metadata": {},
   "outputs": [],
   "source": [
    "# Function will take a range of numebers and print buzz if a multiple of 2, fixx if a multiple of 3 and buzz-fizz if a multuple of both:\n",
    "#Args:\n",
    "# Start: beginning of range\n",
    "# End: end of range\n",
    "\n",
    "def Buzzfizz (start, end, num1, num2):\n",
    "    for i in range(start,end):\n",
    "        if i%num1 and i%num2 == 0:\n",
    "            print(\"BUZZ-FIZZ\")\n",
    "            \n",
    "        elif i%num1 == 0:\n",
    "            print(\"Buzz\")\n",
    "        elif i%num2 == 0:\n",
    "            print(\"Fizz\")\n",
    "        else:\n",
    "            print(i)\n"
   ]
  },
  {
   "cell_type": "code",
   "execution_count": null,
   "id": "60171119",
   "metadata": {},
   "outputs": [],
   "source": [
    "Buzzfizz(0,50,2,3)"
   ]
  },
  {
   "cell_type": "code",
   "execution_count": null,
   "id": "71c413e7",
   "metadata": {},
   "outputs": [],
   "source": [
    "#This should appear on github"
   ]
  }
 ],
 "metadata": {
  "kernelspec": {
   "display_name": "Python 3",
   "language": "python",
   "name": "python3"
  },
  "language_info": {
   "codemirror_mode": {
    "name": "ipython",
    "version": 3
   },
   "file_extension": ".py",
   "mimetype": "text/x-python",
   "name": "python",
   "nbconvert_exporter": "python",
   "pygments_lexer": "ipython3",
   "version": "3.11.1"
  }
 },
 "nbformat": 4,
 "nbformat_minor": 5
}
