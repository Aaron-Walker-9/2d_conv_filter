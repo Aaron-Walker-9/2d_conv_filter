{
 "cells": [
  {
   "cell_type": "code",
   "execution_count": null,
   "id": "a36c5f20",
   "metadata": {},
   "outputs": [],
   "source": [
    "#Create 2d conv filter"
   ]
  }
 ],
 "metadata": {
  "language_info": {
   "name": "python"
  }
 },
 "nbformat": 4,
 "nbformat_minor": 5
}
